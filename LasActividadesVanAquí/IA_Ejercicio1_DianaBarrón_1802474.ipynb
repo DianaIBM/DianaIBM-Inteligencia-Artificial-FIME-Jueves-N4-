{
  "nbformat": 4,
  "nbformat_minor": 0,
  "metadata": {
    "colab": {
      "name": "IA_Actividad2_DianaBarrón_1802474",
      "provenance": [],
      "collapsed_sections": []
    },
    "kernelspec": {
      "name": "python3",
      "display_name": "Python 3"
    },
    "language_info": {
      "name": "python"
    }
  },
  "cells": [
    {
      "cell_type": "markdown",
      "metadata": {
        "id": "ZRAPLhfQvjEg"
      },
      "source": [
        "**Actividad 2. Ejercicios Introducción Python**\n",
        "---\n",
        "Diana Itzel Barrón Medina | 1802474 | Jueves N4"
      ]
    },
    {
      "cell_type": "markdown",
      "metadata": {
        "id": "1XNIxid5wKJM"
      },
      "source": [
        "**EJERCICIO 1**\n",
        "\n",
        "Crear un programa que pregunte al usuario por su nombre, edad, una frase favorita y autor de la frase favorita. El programa deberá de imprimir un mensaje compuesto por el nombre y edad del usuario diciendo que su frase favorita es la que dió anteriormente y el autor de dicha frase es el nombre previamente dado. Aquí habrá que realizar una concatenación de variables. \n"
      ]
    },
    {
      "cell_type": "code",
      "metadata": {
        "colab": {
          "base_uri": "https://localhost:8080/"
        },
        "id": "WRTd_LWRwMv8",
        "outputId": "3f27ffd0-cec7-46ce-cd93-70f12a51419b"
      },
      "source": [
        "Nombre = input(\"Escribe tu nombre completo: \") #Solicitamos el nombre del usuario y lo guardamos como \"Nombre\"\n",
        "Edad = input(\"Escribe tu edad: \") #Solicitamos la edad del usuario y lo guardamos como \"Edad\"\n",
        "Frase = input(\"Escribe tu frase favorita: \") #Solicitamos la frase favorita del usuario y lo guardamos como \"Frase\"\n",
        "Autor = input(\"¿Quién es el autor/autora de tu frase favorita? \") #Solicitamos el autor de la frase y lo guardamos como \"Autor\"\n",
        "\n",
        "print(\"La frase favorita de \"+Nombre+\", que tiene \"+Edad+\" años, es «\"+Frase+\"», cuyo autor es \"+Autor) #Imprimimos toda la información"
      ],
      "execution_count": null,
      "outputs": [
        {
          "output_type": "stream",
          "text": [
            "Escribe tu nombre completo: Diana Itzel Barrón\n",
            "Escribe tu edad: 21\n",
            "Escribe tu frase favorita: Hablo por los árboles, porque los árboles no tienen lenguas\n",
            "¿Quién es el autor/autora de tu frase favorita? Anthony Hincks\n",
            "La frase favorita de Diana Itzel Barrón, que tiene 21 años, es «Hablo por los árboles, porque los árboles no tienen lenguas», cuyo autor es Anthony Hincks\n"
          ],
          "name": "stdout"
        }
      ]
    },
    {
      "cell_type": "markdown",
      "metadata": {
        "id": "zIM6y8jNy6iW"
      },
      "source": [
        "**EJERCICIO 2**\n",
        "\n",
        "Crear un programa que le pida al usuario capturar dos números enteros y dos números flotantes. Después, realizará la suma, resta, multiplicación y división, de ambos pares de números. Como resultado se deberán de obtener 8 valores. Imprimir todos estos reultados.\n"
      ]
    },
    {
      "cell_type": "code",
      "metadata": {
        "colab": {
          "base_uri": "https://localhost:8080/"
        },
        "id": "5C6-NMx9zpVV",
        "outputId": "f9872300-760b-4040-dc46-ef71fe38610a"
      },
      "source": [
        "#Primero pediremos los cuatro números; dos enteros y dos flotantes.\n",
        "\n",
        "Ent1 = int(input(\"Ingresa el primer número entero: \")) #Se pide el primer número entero y se guarda como \"Ent1\"\n",
        "Ent2 = int(input(\"Ingresa el segundo número entero: \")) #Se pide el segundo número entero y se guarda como \"Ent2\"\n",
        "Flot1 = float(input(\"Ingresa el primer número flotante: \")) #Se pide el primer número entero y se guarda como \"Flot1\"\n",
        "Flot2 = float(input(\"Ingresa el segundo número flotante: \")) #Se pide el segundo número entero y se guarda como \"Flot2\"\n",
        "\n",
        "#Procedemos a realizar todas las sumas\n",
        "SumaEnteros = Ent1 + Ent2 #Suma de los enteros. El resultado se guarda como \"SumaEnteros\"\n",
        "SumaFlots = Flot1 + Flot2 #Suma de los flotantes. El resultado se guarda como \"SumaFlots\"\n",
        "\n",
        "#Impresión del resultado\n",
        "print(\"La suma de los enteros es \")\n",
        "print(SumaEnteros)\n",
        "print(\"La suma de los flotantes es \")\n",
        "print(SumaFlots)\n",
        "\n",
        "#Procedemos a realizar las restas\n",
        "RestaEnteros = Ent1 - Ent2 #Resta de los enteros. El resultado se guarda como \"RestaEnteros\"\n",
        "RestaFlots = Flot1 - Flot2 #Resta de los flotantes. El resultado se guarda como \"RestaFlots\"\n",
        "\n",
        "#Impresión del resultado\n",
        "print(\"La resta de los enteros es \")\n",
        "print(RestaEnteros)\n",
        "print(\"La resta de los flotantes es \")\n",
        "print(RestaFlots)\n",
        "\n",
        "#Procedemos a realizar las multiplicaciones\n",
        "MultEnteros = Ent1 * Ent2 #Multiplicación de los enteros. El resultado se guarda como \"MultEnteros\"\n",
        "MultFlots = Flot1 * Flot2 #Multiplicación de los flotantes. El resultado se guarda como \"MultFlots\"\n",
        "\n",
        "#Impresión del resultado\n",
        "print(\"La multiplicación de los enteros es \")\n",
        "print(MultEnteros)\n",
        "print(\"La multiplicación de los flotantes es \")\n",
        "print(MultFlots)\n",
        "\n",
        "#Procedemos a realizar las divisiones\n",
        "DivEnteros = Ent1 / Ent2 #División de los enteros. El resultado se guarda como \"DivEnteros\"\n",
        "DivFlots = Flot1 / Flot2 #División de los flotantes. El resultado se guarda como \"DivFlots\"\n",
        "\n",
        "#Impresión del resultado\n",
        "print(\"La división de los enteros es \")\n",
        "print(DivEnteros)\n",
        "print(\"La división de los flotantes es \")\n",
        "print(DivFlots)"
      ],
      "execution_count": null,
      "outputs": [
        {
          "output_type": "stream",
          "text": [
            "Ingresa el primer número entero: 4\n",
            "Ingresa el segundo número entero: 2\n",
            "Ingresa el primer número flotante: 20.4\n",
            "Ingresa el segundo número flotante: 10.4\n",
            "La suma de los enteros es \n",
            "6\n",
            "La suma de los flotantes es \n",
            "30.799999999999997\n",
            "La resta de los enteros es \n",
            "2\n",
            "La resta de los flotantes es \n",
            "9.999999999999998\n",
            "La multiplicación de los enteros es \n",
            "8\n",
            "La multiplicación de los flotantes es \n",
            "212.16\n",
            "La división de los enteros es \n",
            "2.0\n",
            "La división de los flotantes es \n",
            "1.9615384615384612\n"
          ],
          "name": "stdout"
        }
      ]
    },
    {
      "cell_type": "markdown",
      "metadata": {
        "id": "RTIeaGyZAgH_"
      },
      "source": [
        "**EJERCICIO 3**\n",
        "\n",
        "Crear un programa que evalúe dos expresiones lógicas con `and`, dos con `or` y dos con `not`. Cada expresión deberá hacer uso de operadores de comparación. "
      ]
    },
    {
      "cell_type": "code",
      "metadata": {
        "colab": {
          "base_uri": "https://localhost:8080/"
        },
        "id": "q2v-2gH9AnZg",
        "outputId": "e7cd2ac5-b2f8-40da-c5ff-a8fa6226c115"
      },
      "source": [
        "x = int(input(\"Introduzca un número entero 'x': \"))\n",
        "y = int(input(\"Introduzca un número entero 'y': \"))\n",
        "\n",
        "#EXPRESIONES AND\n",
        "#Será TRUE si ambas son verdaderas. De lo contrario, será FALSE\n",
        "\n",
        "print(10>x and 8<y)\n",
        "print(4>x and 15>y)\n",
        "\n",
        "#EXPRESIONES OR\n",
        "#Será TRUE si al menos una es verdadera. De lo contrario, será FALSE\n",
        "\n",
        "print(x>9 and y<10)\n",
        "print(x>3 and y>1)\n",
        "\n",
        "#EXPRESIONES NOT\n",
        "#Regresa la negación de su entrada. Si la entrada es TRUE, regresará un FALSE. Si la entrada es FALSE, regresará un TRUE.\n",
        "\n",
        "print(not 10>y)\n",
        "print(not 38<x)"
      ],
      "execution_count": 4,
      "outputs": [
        {
          "output_type": "stream",
          "text": [
            "Introduzca un número entero 'x': 10\n",
            "Introduzca un número entero 'y': 3\n",
            "False\n",
            "False\n",
            "True\n",
            "True\n",
            "False\n",
            "True\n"
          ],
          "name": "stdout"
        }
      ]
    }
  ]
}