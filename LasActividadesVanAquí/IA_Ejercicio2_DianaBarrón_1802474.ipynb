{
  "nbformat": 4,
  "nbformat_minor": 0,
  "metadata": {
    "colab": {
      "name": "IA_Actividad3_DianaBarrón_1802474",
      "provenance": [],
      "collapsed_sections": []
    },
    "kernelspec": {
      "name": "python3",
      "display_name": "Python 3"
    },
    "language_info": {
      "name": "python"
    }
  },
  "cells": [
    {
      "cell_type": "markdown",
      "metadata": {
        "id": "zljmNzD2qcec"
      },
      "source": [
        ""
      ]
    },
    {
      "cell_type": "markdown",
      "metadata": {
        "id": "Vmpi2bBmPYfc"
      },
      "source": [
        "**Actividad 3. Ejercicios Introducción Python 2da parte\n",
        "Diana Itzel Barrón Medina | 1802474 | Jueves N4**"
      ]
    },
    {
      "cell_type": "markdown",
      "metadata": {
        "id": "yHyi1b4Qqw-b"
      },
      "source": [
        "**EJERCICIO 1**"
      ]
    },
    {
      "cell_type": "markdown",
      "metadata": {
        "id": "rkZkzGoecpxy"
      },
      "source": [
        "\n",
        "**1.1 Piensa en 7 comidas diferente que te gusten. Implementa un programa que pregunte por las 7 comidas, las almacene en una lista y que posteriermente imprima cada una de ellas utilizando uno de los ciclos comentados en clase.**\n",
        "\n",
        "\n"
      ]
    },
    {
      "cell_type": "code",
      "metadata": {
        "colab": {
          "base_uri": "https://localhost:8080/"
        },
        "id": "NOUcRRgHe-QV",
        "outputId": "ddfbcbb3-5ebe-4cd9-efc3-aa0d03805b8b"
      },
      "source": [
        "print(\"EJERCICIO 1.1\")\n",
        "Lista = [] #Creo una lista vacía donde voy a guardar los datos\n",
        "i = 1 #Otorgo a 'i' el valor de uno\n",
        "while i < 8: #Mientras sea menor a ocho, se cumplirá el siguiente ciclo (es decir, hasta siete)\n",
        "  Comidas = input(\"¿Cuál es tu comida favorita? \") #Hago la pregunta y guardo la respuesta como 'Comidas'\n",
        "  Lista.append(Comidas) #Voy guardando estos datos en la lista qe cree en un inicio \n",
        "  i+=1 #'i' irá incrementando su valor\n",
        "\n",
        "print(Lista) #Imprimo mi lista\n"
      ],
      "execution_count": null,
      "outputs": [
        {
          "output_type": "stream",
          "name": "stdout",
          "text": [
            "EJERCICIO 1.1\n",
            "¿Cuál es tu comida favorita? Ensalada de pollo\n",
            "¿Cuál es tu comida favorita? Pizza\n",
            "¿Cuál es tu comida favorita? Hot dogs\n",
            "¿Cuál es tu comida favorita? Hamburguesa\n",
            "¿Cuál es tu comida favorita? Ceviche\n",
            "¿Cuál es tu comida favorita? Camarones\n",
            "¿Cuál es tu comida favorita? Tacos\n",
            "['Ensalada de pollo', 'Pizza', 'Hot dogs', 'Hamburguesa', 'Ceviche', 'Camarones', 'Tacos']\n"
          ]
        }
      ]
    },
    {
      "cell_type": "markdown",
      "metadata": {
        "id": "c--m9T6tqm8Z"
      },
      "source": [
        "\n",
        "**1.2 Modifica el ejercicio 1.1 para que imprima cada una de las comidas favoritas junto con una oracición inicial: \"Una de mis comidas favoritas es [comida1]\".**\n"
      ]
    },
    {
      "cell_type": "code",
      "metadata": {
        "colab": {
          "base_uri": "https://localhost:8080/"
        },
        "id": "Dv5U8VF-q5Lc",
        "outputId": "2f9a5ed6-47e9-4806-9674-669cc5cec5a0"
      },
      "source": [
        "print(\"EJERCICIO 1.2\")\n",
        "Lista = []\n",
        "i = 1\n",
        "while i < 8:\n",
        "  Comidas = input(\"¿Cuál es tu comida favorita? \")\n",
        "  Lista.append(Comidas) \n",
        "  i+=1\n",
        "#Hasta aquí el programa es el mismo que el 1.1\n",
        "\n",
        "for Comidas in Lista:\n",
        "  print(\"Una de mis comidas favoritas es\",Comidas) #Indico que por cada elemento de \"Comidas\" en mi Lista, se imprimira lo que se encuentra en parentesisCa"
      ],
      "execution_count": null,
      "outputs": [
        {
          "output_type": "stream",
          "name": "stdout",
          "text": [
            "EJERCICIO 1.2\n",
            "¿Cuál es tu comida favorita? Ensalada de pollo\n",
            "¿Cuál es tu comida favorita? Pizza\n",
            "¿Cuál es tu comida favorita? Hot dogs\n",
            "¿Cuál es tu comida favorita? Hamburguesa\n",
            "¿Cuál es tu comida favorita? Ceviche\n",
            "¿Cuál es tu comida favorita? marones\n",
            "¿Cuál es tu comida favorita? Tacos\n",
            "Una de mis comidas favoritas es Ensalada de pollo\n",
            "Una de mis comidas favoritas es Pizza\n",
            "Una de mis comidas favoritas es Hot dogs\n",
            "Una de mis comidas favoritas es Hamburguesa\n",
            "Una de mis comidas favoritas es Ceviche\n",
            "Una de mis comidas favoritas es marones\n",
            "Una de mis comidas favoritas es Tacos\n"
          ]
        }
      ]
    },
    {
      "cell_type": "markdown",
      "metadata": {
        "id": "ANUcMdXHt3l4"
      },
      "source": [
        "**EJERCICIO 2**"
      ]
    },
    {
      "cell_type": "markdown",
      "metadata": {
        "id": "G03OGSM-t7TF"
      },
      "source": [
        "**Crear un juego de piedra, papel o tijera de dos jugadores. El programa preguntará por la opción del jugador 1 y la opción del jugador 2 y dará como resultado quien ganó el juego.**\n"
      ]
    },
    {
      "cell_type": "code",
      "metadata": {
        "colab": {
          "base_uri": "https://localhost:8080/"
        },
        "id": "JJhN5mrjt9WR",
        "outputId": "80bb1f46-8a93-4315-d401-bb78693e6159"
      },
      "source": [
        "print(\"JUEGO DE PIEDRA, PAPEL Y TIJERA\")\n",
        "\n",
        "Jugador1 = int(input(\"Jugador 1: Presiona '1' si escoges piedra; presiona '2' si escoges papel; presiona '3' si escoges tijera: \"))\n",
        "\n",
        "#Se aclara cuál opción escogió el jugador 1:\n",
        "\n",
        "if Jugador1 == 1:\n",
        "  print(\"Jugador 1 ha escogido piedra\")\n",
        "elif Jugador1 == 2:\n",
        "  print(\"Jugador 1 ha escogido papel\")\n",
        "else:\n",
        "  print(\"Jugador 1 ha escogido tijeras\")\n",
        "\n",
        "Jugador2 = int(input(\"Jugador 2: Presiona '1' si escoges piedra; presiona '2' si escoges papel; presiona '3' si escoges tijera: \"))\n",
        "\n",
        "#Se aclara cuál opción escogió el jugador 2:\n",
        "\n",
        "if Jugador2 == 1:\n",
        "  print(\"Jugador 2 ha escogido piedra\")\n",
        "elif Jugador2 == 2:\n",
        "  print(\"Jugador 2 ha escogido papel\")\n",
        "else:\n",
        "  print(\"Jugador 2 ha escogido tijeras\")\n",
        "\n",
        "  \n",
        "#Se analiza todas las ocasiones si el Jugador 1 ha escogido piedra\n",
        "\n",
        "if Jugador1==1:\n",
        "  if Jugador2==2: #Y el jugador 2 ha escogido papel\n",
        "    print(\"¡Jugador 2 ha ganado!\")\n",
        "  elif Jugador2==3:#Si el jugador 2 ha escogido tijera\n",
        "   print(\"¡Jugador 1 ha ganado!\")\n",
        "  else:\n",
        "    print(\"Ha sido empate\") #Si el jugador 2 ha escogido también piedra\n",
        "\n",
        "#Se analiza todas las ocasiones si el Jugador 1 ha escogido papel\n",
        "\n",
        "if Jugador1==2:\n",
        "  if Jugador2==1: #Y el jugador 2 ha escogido piedra\n",
        "   print(\"¡Jugador 1 ha ganado!\")\n",
        "  elif Jugador2==3:#Si el jugador 2 ha escogido tijera\n",
        "   print(\"¡Jugador 2 ha ganado!\")\n",
        "  else:\n",
        "    print(\"Ha sido empate\") #Si el jugador 2 ha escogido también papel\n",
        "\n",
        "#Se analiza todas las ocasiones si el Jugador 1 ha escogido tijera\n",
        "\n",
        "if Jugador1==3:\n",
        "  if Jugador2==1: #Y el jugador 2 ha escogido piedra\n",
        "    print(\"¡Jugador 2 ha ganado!\")\n",
        "  elif Jugador2==2:#Si el jugador 2 ha escogido papel\n",
        "    print(\"¡Jugador 1 ha ganado!\")\n",
        "  else:\n",
        "    print(\"Ha sido empate\") #Si el jugador 2 ha escogido también tijera"
      ],
      "execution_count": null,
      "outputs": [
        {
          "output_type": "stream",
          "name": "stdout",
          "text": [
            "JUEGO DE PIEDRA, PAPEL Y TIJERA\n",
            "Jugador 1: Presiona '1' si escoges piedra; presiona '2' si escoges papel; presiona '3' si escoges tijera: 3\n",
            "Jugador 1 ha escogido tijeras\n",
            "Jugador 2: Presiona '1' si escoges piedra; presiona '2' si escoges papel; presiona '3' si escoges tijera: 2\n",
            "Jugador 2 ha escogido papel\n",
            "¡Jugador 1 ha ganado!\n"
          ]
        }
      ]
    },
    {
      "cell_type": "markdown",
      "metadata": {
        "id": "4Ts8kxYSA6ad"
      },
      "source": [
        "**Ejercicio 3**"
      ]
    },
    {
      "cell_type": "markdown",
      "metadata": {
        "id": "5iOtefhxA-84"
      },
      "source": [
        "**Implementar un programa que imprima el siguiente patron:**\n",
        "\n",
        "**123456**\n",
        "**12345**\n",
        "**1234**\n",
        "**123**\n",
        "**12**\n",
        "**1**\n",
        "**12**\n",
        "**123**\n",
        "**1234**\n",
        "**12345**\n",
        "**123456**"
      ]
    },
    {
      "cell_type": "code",
      "metadata": {
        "colab": {
          "base_uri": "https://localhost:8080/"
        },
        "id": "AXWWS-AOBNoF",
        "outputId": "6ad6ef89-a1a6-4b3f-efd0-ccf0af7c7735"
      },
      "source": [
        "patron = [123456,12345,1234,123,12,1] #Declaro mi lista con los dígitos que utilizare\n",
        "i = 0 #Establezco a 'i' un valor de 0\n",
        "while i < 6: #Mientras 'i' sea menor a seis, se cumplirá el ciclo. Es decir, hasta que i sea 5\n",
        "  print(patron[i]) #Se imprime el elemento de la lista de la posición 'i'\n",
        "  i += 1 #'i' aumenta +1\n",
        "\n",
        "i = 5 #Ahora establezco que 'i' será 5\n",
        "while i > 0: #Mientras que 'i' sea mayor a cero se cumplirá el ciclo\n",
        "  i -= 1  #Reduzco el valor de 'i', de modo que en la primera iteración será 4; esto también me ayuda a poder imprimir (al final) cuando i = 0\n",
        "  print(patron[i]) #Se imprime el elemento de la lista de la posición 'i'\n",
        "\n"
      ],
      "execution_count": null,
      "outputs": [
        {
          "output_type": "stream",
          "name": "stdout",
          "text": [
            "123456\n",
            "12345\n",
            "1234\n",
            "123\n",
            "12\n",
            "1\n",
            "12\n",
            "123\n",
            "1234\n",
            "12345\n",
            "123456\n"
          ]
        }
      ]
    }
  ]
}
