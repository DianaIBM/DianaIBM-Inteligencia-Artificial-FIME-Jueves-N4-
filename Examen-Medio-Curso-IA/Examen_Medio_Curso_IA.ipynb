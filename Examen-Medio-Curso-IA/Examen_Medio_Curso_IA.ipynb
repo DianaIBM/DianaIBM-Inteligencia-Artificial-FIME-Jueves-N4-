{
  "nbformat": 4,
  "nbformat_minor": 0,
  "metadata": {
    "colab": {
      "name": "Examen-Medio-Curso-IA.ipynb",
      "provenance": []
    },
    "kernelspec": {
      "name": "python3",
      "display_name": "Python 3"
    },
    "language_info": {
      "name": "python"
    }
  },
  "cells": [
    {
      "cell_type": "markdown",
      "metadata": {
        "id": "dOs8cHg3CGAy"
      },
      "source": [
        "**EXAMEN MEDIO CURSO DE INTELIGENCIA ARTIFICIAL**\n",
        "\n",
        "Diana Itzel Barrón Medina\n",
        "\n",
        "1802474 - IB - Jueves N4"
      ]
    },
    {
      "cell_type": "markdown",
      "metadata": {
        "id": "7C-EYA8wCRQ7"
      },
      "source": [
        "1. Desarrollar un programa que\n",
        "- Remueva los números pares de la lista:\n",
        "   ex_lista = [10, 15, 17, 21, 22, 34, 37, 40, 45, 52, 66, 68, 81, 84, 91, 94, 102, 105, 109]\n",
        "- Imprima la lista después de remover los números pares."
      ]
    },
    {
      "cell_type": "code",
      "metadata": {
        "colab": {
          "base_uri": "https://localhost:8080/"
        },
        "id": "bAhpDjBdCWgc",
        "outputId": "9399432c-4553-4ddd-d152-061e6d3c4581"
      },
      "source": [
        "ex_lista = [10, 15, 17, 21, 22, 34, 37, 40, 45, 52, 66, 68, 81, 84, 91, 94, 102, 105, 109] #Esta es la lista de los números a filtrar\n",
        "ListaImpares = [] #Creo la lista donde almacenare los números impares\n",
        "\n",
        "for x in ex_lista: #Creo un 'for' para revisar todos los elementos de mi lista\n",
        "  if x%2!=0: #Esto me ayudará a saber si no es impar\n",
        "    ListaImpares.append(x) #Indicó que debo guardar todo los números impares en mi lista 'ListaImpares'\n",
        "\n",
        "print(ListaImpares) #Cuando ha terminado de revisar todos los números, se imprime la lista de impares\n"
      ],
      "execution_count": 53,
      "outputs": [
        {
          "output_type": "stream",
          "name": "stdout",
          "text": [
            "[15, 17, 21, 37, 45, 81, 91, 105, 109]\n"
          ]
        }
      ]
    },
    {
      "cell_type": "markdown",
      "metadata": {
        "id": "vZKj_QYADdNG"
      },
      "source": [
        "2. Desarrollar un programa que:\n",
        "- Pregunte al usuario por sus 5 películas favoritas (dato tipo string), empezando por la mas favorita y terminando en la posición 5 con la menos favorita. \n",
        "- Almacene estos datos en una lista. \n",
        "- Por último, iterar sobre la lista generada para imprimir 5 oraciones (1 con cada título de película) que digan: \"La película [TÍTULO DE PELÍCULA] está en la posición [índice+1] de mi top 5\". \n",
        "      . TÍTULO DE PELÍCULA: corresponde a los nombres almacenados previamente en su lista. \n",
        "      . Recordatorio: Índice es la posición de un elemento dentro de una lista. "
      ]
    },
    {
      "cell_type": "code",
      "metadata": {
        "colab": {
          "base_uri": "https://localhost:8080/"
        },
        "id": "YS-SxagZDmo1",
        "outputId": "cd3bc8b0-bd07-4e2b-c1af-1025541937da"
      },
      "source": [
        "ListaPeliculas = [] #Creo una lista vacía llamada 'ListaPelículas' que es donde almacenaré los nombres de las películas\n",
        "print(\"Donde el número #1 es la más favorita y el número #5 es la menos favorita\")\n",
        "\n",
        "for x in range(5): #Se crea un 'for' que se repitira cinco veces\n",
        "  print(\"Piensa en la película que se encuentra en la posición\",x+1,\"de preferencia\")\n",
        "  pelicula = str(input(\"Nombre de la película: \")) #El dato dado por el usuario se almacena como 'película'\n",
        "  ListaPeliculas.append(pelicula) #El dato 'pelicula' se almacena en una lista llamada 'ListaPeliculas'\n",
        "  \n",
        "x=0 #Hago x = 0\n",
        "for pelicula in ListaPeliculas: #Se crea un ciclo 'for' que terminará hasta que no haya datos en ListaPeliculas\n",
        "    print(\"La pelicula\",pelicula, \"se encuentra en la posición\",x+1) #Imprimo la película y la posición donde se encuentra con una frase\n",
        "    x+=1 #Aumento el valor de x\n"
      ],
      "execution_count": 75,
      "outputs": [
        {
          "output_type": "stream",
          "name": "stdout",
          "text": [
            "Donde el número #1 es la más favorita y el número #5 es la menos favorita\n",
            "Piensa en la película que se encuentra en la posición 1 de preferencia\n",
            "Nombre de la película: Mean Girls\n",
            "Piensa en la película que se encuentra en la posición 2 de preferencia\n",
            "Nombre de la película: Legalmente rubia\n",
            "Piensa en la película que se encuentra en la posición 3 de preferencia\n",
            "Nombre de la película: Guardianes de la Galaxia\n",
            "Piensa en la película que se encuentra en la posición 4 de preferencia\n",
            "Nombre de la película: Harry Potter\n",
            "Piensa en la película que se encuentra en la posición 5 de preferencia\n",
            "Nombre de la película: Coraline y la puerta secreta\n",
            "La pelicula Mean Girls se encuentra en la posición 1\n",
            "La pelicula Legalmente rubia se encuentra en la posición 2\n",
            "La pelicula Guardianes de la Galaxia se encuentra en la posición 3\n",
            "La pelicula Harry Potter se encuentra en la posición 4\n",
            "La pelicula Coraline y la puerta secreta se encuentra en la posición 5\n"
          ]
        }
      ]
    }
  ]
}